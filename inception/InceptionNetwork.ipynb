{
 "cells": [
  {
   "cell_type": "markdown",
   "metadata": {},
   "source": [
    "# Facial Expression Recognition using Convolutional Neural Networks"
   ]
  },
  {
   "cell_type": "markdown",
   "metadata": {},
   "source": [
    "First, we need to import the necessary libraries:"
   ]
  },
  {
   "cell_type": "code",
   "execution_count": 1,
   "metadata": {},
   "outputs": [],
   "source": [
    "import torch\n",
    "import numpy as np\n",
    "import torch.nn.functional as F\n",
    "\n",
    "from torch.utils.data import Dataset\n",
    "import torch.nn as nn\n",
    "from torch.nn import Module\n",
    "\n",
    "import torch.optim as optim\n",
    "from torch.utils.data import DataLoader\n",
    "\n",
    "import os\n",
    "import pandas as pd"
   ]
  },
  {
   "cell_type": "markdown",
   "metadata": {},
   "source": [
    "### Importing the data"
   ]
  },
  {
   "cell_type": "code",
   "execution_count": 2,
   "metadata": {},
   "outputs": [
    {
     "data": {
      "text/plain": [
       "['example_submission.csv',\n",
       " 'fer2013.tar.gz',\n",
       " 'icml_face_data.csv',\n",
       " 'test.csv',\n",
       " 'train.csv']"
      ]
     },
     "execution_count": 2,
     "metadata": {},
     "output_type": "execute_result"
    }
   ],
   "source": [
    "path = 'data/'\n",
    "os.listdir(path)"
   ]
  },
  {
   "cell_type": "code",
   "execution_count": 3,
   "metadata": {},
   "outputs": [],
   "source": [
    "data = pd.read_csv(path+'icml_face_data.csv')"
   ]
  },
  {
   "cell_type": "code",
   "execution_count": 4,
   "metadata": {},
   "outputs": [
    {
     "data": {
      "text/html": [
       "<div>\n",
       "<style scoped>\n",
       "    .dataframe tbody tr th:only-of-type {\n",
       "        vertical-align: middle;\n",
       "    }\n",
       "\n",
       "    .dataframe tbody tr th {\n",
       "        vertical-align: top;\n",
       "    }\n",
       "\n",
       "    .dataframe thead th {\n",
       "        text-align: right;\n",
       "    }\n",
       "</style>\n",
       "<table border=\"1\" class=\"dataframe\">\n",
       "  <thead>\n",
       "    <tr style=\"text-align: right;\">\n",
       "      <th></th>\n",
       "      <th>emotion</th>\n",
       "      <th>Usage</th>\n",
       "      <th>pixels</th>\n",
       "    </tr>\n",
       "  </thead>\n",
       "  <tbody>\n",
       "    <tr>\n",
       "      <th>0</th>\n",
       "      <td>0</td>\n",
       "      <td>Training</td>\n",
       "      <td>70 80 82 72 58 58 60 63 54 58 60 48 89 115 121...</td>\n",
       "    </tr>\n",
       "    <tr>\n",
       "      <th>1</th>\n",
       "      <td>0</td>\n",
       "      <td>Training</td>\n",
       "      <td>151 150 147 155 148 133 111 140 170 174 182 15...</td>\n",
       "    </tr>\n",
       "    <tr>\n",
       "      <th>2</th>\n",
       "      <td>2</td>\n",
       "      <td>Training</td>\n",
       "      <td>231 212 156 164 174 138 161 173 182 200 106 38...</td>\n",
       "    </tr>\n",
       "    <tr>\n",
       "      <th>3</th>\n",
       "      <td>4</td>\n",
       "      <td>Training</td>\n",
       "      <td>24 32 36 30 32 23 19 20 30 41 21 22 32 34 21 1...</td>\n",
       "    </tr>\n",
       "    <tr>\n",
       "      <th>4</th>\n",
       "      <td>6</td>\n",
       "      <td>Training</td>\n",
       "      <td>4 0 0 0 0 0 0 0 0 0 0 0 3 15 23 28 48 50 58 84...</td>\n",
       "    </tr>\n",
       "  </tbody>\n",
       "</table>\n",
       "</div>"
      ],
      "text/plain": [
       "   emotion     Usage                                             pixels\n",
       "0        0  Training  70 80 82 72 58 58 60 63 54 58 60 48 89 115 121...\n",
       "1        0  Training  151 150 147 155 148 133 111 140 170 174 182 15...\n",
       "2        2  Training  231 212 156 164 174 138 161 173 182 200 106 38...\n",
       "3        4  Training  24 32 36 30 32 23 19 20 30 41 21 22 32 34 21 1...\n",
       "4        6  Training  4 0 0 0 0 0 0 0 0 0 0 0 3 15 23 28 48 50 58 84..."
      ]
     },
     "execution_count": 4,
     "metadata": {},
     "output_type": "execute_result"
    }
   ],
   "source": [
    "data.head()"
   ]
  },
  {
   "cell_type": "code",
   "execution_count": 5,
   "metadata": {},
   "outputs": [],
   "source": [
    "import matplotlib.pyplot as plt\n",
    "\n",
    "def plot_all_emotions(train_images, emotions, train_labels):\n",
    "    fig, axs = plt.subplots(1, 7, figsize=(30, 12))\n",
    "    fig.subplots_adjust(hspace = .2, wspace=.2)\n",
    "    axs = axs.ravel()\n",
    "    for i in range(7):\n",
    "        idx = data[data['emotion']==i].index[i]\n",
    "        axs[i].imshow(train_images[idx][:,:,0], cmap='gray')\n",
    "        axs[i].set_title(emotions[train_labels[idx].argmax()])\n",
    "        axs[i].set_xticklabels([])\n",
    "        axs[i].set_yticklabels([])\n",
    "\n",
    "def prepare_data(data):\n",
    "    \"\"\" Prepare data for modeling \n",
    "        input: data frame with labels und pixel data\n",
    "        output: image and label array \"\"\"\n",
    "    \n",
    "    image_array = np.zeros(shape=(len(data), 48, 48))\n",
    "    image_label = np.array(list(map(int, data['emotion'])))\n",
    "    \n",
    "    for i, row in enumerate(data.index):\n",
    "        image = np.fromstring(data.loc[row, ' pixels'], dtype=int, sep=' ')\n",
    "        image = np.reshape(image, (48, 48))\n",
    "        image_array[i] = image\n",
    "        \n",
    "    return image_array, image_label"
   ]
  },
  {
   "cell_type": "code",
   "execution_count": 6,
   "metadata": {},
   "outputs": [
    {
     "data": {
      "text/plain": [
       " Usage\n",
       "Training       28709\n",
       "PublicTest      3589\n",
       "PrivateTest     3589\n",
       "Name: count, dtype: int64"
      ]
     },
     "execution_count": 6,
     "metadata": {},
     "output_type": "execute_result"
    }
   ],
   "source": [
    "data[' Usage'].value_counts()\n"
   ]
  },
  {
   "cell_type": "code",
   "execution_count": 7,
   "metadata": {},
   "outputs": [],
   "source": [
    "emotions = {0: 'Angry', 1: 'Disgust', 2: 'Fear', 3: 'Happy', 4: 'Sad', 5: 'Surprise', 6: 'Neutral'}"
   ]
  },
  {
   "cell_type": "code",
   "execution_count": 8,
   "metadata": {},
   "outputs": [],
   "source": [
    "train_image_array, train_image_label = prepare_data(data[data[' Usage']=='Training'])\n",
    "val_image_array, val_image_label = prepare_data(data[data[' Usage']=='PrivateTest'])\n",
    "test_image_array, test_image_label = prepare_data(data[data[' Usage']=='PublicTest'])"
   ]
  },
  {
   "cell_type": "code",
   "execution_count": 9,
   "metadata": {},
   "outputs": [],
   "source": [
    "train_images = train_image_array.reshape((train_image_array.shape[0], 48, 48, 1))\n",
    "train_images = train_images.astype('float32')/255\n",
    "val_images = val_image_array.reshape((val_image_array.shape[0], 48, 48, 1))\n",
    "val_images = val_images.astype('float32')/255\n",
    "test_images = test_image_array.reshape((test_image_array.shape[0], 48, 48, 1))\n",
    "test_images = test_images.astype('float32')/255"
   ]
  },
  {
   "cell_type": "code",
   "execution_count": 10,
   "metadata": {},
   "outputs": [
    {
     "name": "stdout",
     "output_type": "stream",
     "text": [
      "[0 0 2 ... 4 0 4]\n"
     ]
    }
   ],
   "source": [
    "print(train_image_label)"
   ]
  },
  {
   "cell_type": "code",
   "execution_count": 11,
   "metadata": {},
   "outputs": [
    {
     "name": "stdout",
     "output_type": "stream",
     "text": [
      "28709\n"
     ]
    }
   ],
   "source": [
    "print(len(train_image_label))"
   ]
  },
  {
   "cell_type": "code",
   "execution_count": 12,
   "metadata": {},
   "outputs": [],
   "source": [
    "def one_hot_ecnoding(labels):\n",
    "    labels_one_hot_encoded = np.zeros((len(labels), 7))\n",
    "    for i, label in enumerate(labels):\n",
    "        labels_one_hot_encoded[i, label] = 1\n",
    "    return labels_one_hot_encoded"
   ]
  },
  {
   "cell_type": "code",
   "execution_count": 13,
   "metadata": {},
   "outputs": [
    {
     "name": "stdout",
     "output_type": "stream",
     "text": [
      "(3589,)\n"
     ]
    }
   ],
   "source": [
    "print(val_image_label.shape)"
   ]
  },
  {
   "cell_type": "code",
   "execution_count": 14,
   "metadata": {},
   "outputs": [],
   "source": [
    "train_labels = one_hot_ecnoding(train_image_label)\n",
    "val_labels = one_hot_ecnoding(val_image_label)\n",
    "test_labels = one_hot_ecnoding(test_image_label)"
   ]
  },
  {
   "cell_type": "markdown",
   "metadata": {},
   "source": [
    "Prepare the datasets:"
   ]
  },
  {
   "cell_type": "code",
   "execution_count": 15,
   "metadata": {},
   "outputs": [],
   "source": [
    "batch_size = 64"
   ]
  },
  {
   "cell_type": "code",
   "execution_count": 16,
   "metadata": {},
   "outputs": [
    {
     "name": "stdout",
     "output_type": "stream",
     "text": [
      "torch.Size([3589, 1, 48, 48])\n",
      "torch.Size([3589, 7])\n"
     ]
    }
   ],
   "source": [
    "from torch.utils.data import TensorDataset, DataLoader\n",
    "\n",
    "\n",
    "tensor_train_x = torch.Tensor(train_images).permute(0, 3, 1, 2)\n",
    "tensor_train_y = torch.Tensor(train_labels)\n",
    "\n",
    "train_set = TensorDataset(tensor_train_x, tensor_train_y)\n",
    "train_loader = torch.utils.data.DataLoader(train_set, batch_size=batch_size,\n",
    "                                           shuffle=True, num_workers=4)\n",
    "\n",
    "\n",
    "tensor_val_x = torch.Tensor(val_images).permute(0, 3, 1, 2)\n",
    "tensor_val_y = torch.Tensor(val_labels)\n",
    "\n",
    "print(tensor_val_x.shape)\n",
    "print(tensor_val_y.shape)\n",
    "\n",
    "val_set = TensorDataset(tensor_val_x, tensor_val_y)\n",
    "val_loader = torch.utils.data.DataLoader(val_set, batch_size=batch_size,\n",
    "                                           shuffle=True, num_workers=4)\n",
    "\n",
    "tensor_test_x = torch.Tensor(test_images).permute(0, 3, 1, 2)\n",
    "tensor_test_y = torch.Tensor(test_labels)\n",
    "\n",
    "test_set = TensorDataset(tensor_test_x, tensor_test_y)\n",
    "test_loader = torch.utils.data.DataLoader(test_set, batch_size=batch_size,\n",
    "                                           shuffle=True, num_workers=4)\n"
   ]
  },
  {
   "cell_type": "code",
   "execution_count": 17,
   "metadata": {},
   "outputs": [
    {
     "data": {
      "image/png": "[encoded data removed]",
      "text/plain": [
       "<Figure size 3000x1200 with 7 Axes>"
      ]
     },
     "metadata": {},
     "output_type": "display_data"
    }
   ],
   "source": [
    "plot_all_emotions(train_images, emotions, train_labels)"
   ]
  },
  {
   "cell_type": "markdown",
   "metadata": {},
   "source": [
    "## Inception v_1"
   ]
  },
  {
   "attachments": {
    "inception_block_1.png": {
     "image/png": "[encoded data removed]"
    }
   },
   "cell_type": "markdown",
   "metadata": {},
   "source": [
    "The basic Inception block:\n",
    "\n",
    "![inception_block_1.png](attachment:inception_block_1.png)\n",
    "\n",
    "\n",
    "\\[2] - Szegedy, Christian, et al. Going Deeper with Convolutions. arXiv:1409.4842, arXiv, 16 septembrie 2014. arXiv.org, https://doi.org/10.48550/arXiv.1409.4842.\n"
   ]
  },
  {
   "cell_type": "code",
   "execution_count": 18,
   "metadata": {},
   "outputs": [],
   "source": [
    "class ConvolutionBlock(nn.Module):\n",
    "    \"\"\"\n",
    "    Layer consisting of conv->batchnorm->relu\n",
    "\n",
    "    \"\"\"\n",
    "    def __init__(self, in_channels , out_channels , kernel_size , stride , padding , activation='relu', norm='batch'):\n",
    "        super(ConvolutionBlock,self).__init__()\n",
    "\n",
    "        # 2d convolution\n",
    "        self.conv2d = nn.Conv2d(in_channels = in_channels, out_channels = out_channels, kernel_size = kernel_size, stride = stride, padding = padding , bias=False )\n",
    "\n",
    "        # batchnorm\n",
    "        if norm == 'batch':\n",
    "            self.batchnorm2d = nn.BatchNorm2d(out_channels)\n",
    "\n",
    "        if activation == 'relu':\n",
    "        # relu layer\n",
    "            self.activation = nn.ReLU()\n",
    "\n",
    "    def forward(self,x):\n",
    "        x = self.conv2d(x)\n",
    "        if self.batchnorm2d is not None:\n",
    "            x = self.batchnorm2d(x)\n",
    "        \n",
    "        return self.activation(x)"
   ]
  },
  {
   "cell_type": "markdown",
   "metadata": {},
   "source": [
    "*The following line if plotting with graphViz fails:*"
   ]
  },
  {
   "cell_type": "code",
   "execution_count": 19,
   "metadata": {},
   "outputs": [],
   "source": [
    "# import os\n",
    "# os.environ[\"PATH\"] += os.pathsep + 'C:\\\\Users\\\\soca274177\\\\Downloads\\\\graphviz-9.0.0-win32\\\\Graphviz\\\\bin'"
   ]
  },
  {
   "cell_type": "code",
   "execution_count": 21,
   "metadata": {},
   "outputs": [
    {
     "name": "stdout",
     "output_type": "stream",
     "text": [
      "torch.Size([32, 256, 28, 28])\n"
     ]
    }
   ],
   "source": [
    "from torchview import draw_graph\n",
    "\n",
    "class InceptionBlock(nn.Module):\n",
    "    '''\n",
    "\n",
    "    building block of inception-v1 architecture. creates following 4 branches and concatenate them\n",
    "    (a) branch1: 1x1 conv\n",
    "    (b) branch2: 1x1 conv followed by 3x3 conv\n",
    "    (c) branch3: 1x1 conv followed by 5x5 conv\n",
    "    (d) branch4: Maxpool2d followed by 1x1 conv\n",
    "\n",
    "        Note:\n",
    "            1. output and input feature map height and width should remain the same. Only the channel output should change. eg. 28x28x192 -> 28x28x256\n",
    "            2. To generate same height and width of output feature map as the input feature map, following should be padding for\n",
    "                * 1x1 conv : p=0\n",
    "                * 3x3 conv : p=1\n",
    "                * 5x5 conv : p=2\n",
    "\n",
    "\n",
    "    Args:\n",
    "       in_channels (int) : # of input channels\n",
    "       out_1x1 (int) : number of output channels for branch 1\n",
    "       red_3x3 (int) : reduced 3x3 referring to output channels of 1x1 conv just before 3x3 in branch2\n",
    "       out_3x3 (int) : number of output channels for branch 2\n",
    "       red_5x5 (int) : reduced 5x5 referring to output channels of 1x1 conv just before 5x5 in branch3\n",
    "       out_5x5 (int) : number of output channels for branch 3\n",
    "       out_1x1_pooling (int) : number of output channels for branch 4\n",
    "\n",
    "    Attributes:\n",
    "        concatenated feature maps from all 4 branches constituiting output of Inception module.\n",
    "\n",
    "    '''\n",
    "    def __init__(self , in_channels , out_1x1 , red_3x3 , out_3x3 , red_5x5 , out_5x5 , out_1x1_pooling):\n",
    "        super(InceptionBlock,self).__init__()\n",
    "\n",
    "        # branch1 : k=1,s=1,p=0\n",
    "        self.branch1 = ConvolutionBlock(in_channels,out_1x1,1,1,0)\n",
    "\n",
    "        # branch2 : k=1,s=1,p=0 -> k=3,s=1,p=1\n",
    "        self.branch2 = nn.Sequential(ConvolutionBlock(in_channels,red_3x3,1,1,0),ConvolutionBlock(red_3x3,out_3x3,3,1,1))\n",
    "\n",
    "        # branch3 : k=1,s=1,p=0 -> k=5,s=1,p=2\n",
    "        self.branch3 = nn.Sequential(ConvolutionBlock(in_channels,red_5x5,1,1,0),ConvolutionBlock(red_5x5,out_5x5,5,1,2))\n",
    "\n",
    "        # branch4 : pool(k=3,s=1,p=1) -> k=1,s=1,p=0\n",
    "        self.branch4 = nn.Sequential(nn.MaxPool2d(kernel_size=3,stride=1,padding=1),ConvolutionBlock(in_channels,out_1x1_pooling,1,1,0))\n",
    "\n",
    "\n",
    "    def forward(self,x):\n",
    "\n",
    "        # concatenation from dim=1 as dim=0 represents batchsize\n",
    "        return torch.cat([self.branch1(x),self.branch2(x),self.branch3(x),self.branch4(x)],dim=1)\n",
    "\n",
    "\n",
    "def testInceptionBlock():\n",
    "    x = torch.randn((32,192,28,28))\n",
    "    model = InceptionBlock(192,64,96,128,16,32,32)\n",
    "    print(model(x).shape)\n",
    "    return model\n",
    "\n",
    "model = testInceptionBlock()\n",
    "\n",
    "# architecture = 'InceptionBlock'\n",
    "# model_graph = draw_graph(model, input_size=(1,192,28,28), graph_dir ='TB' , roll=True, expand_nested=True, graph_name=f'self_{architecture}',save_graph=True,filename=f'self_{architecture}')\n",
    "# model_graph.visual_graph\n"
   ]
  },
  {
   "cell_type": "code",
   "execution_count": 22,
   "metadata": {},
   "outputs": [],
   "source": [
    "# class IIPBlock(nn.Module):\n",
    "#     def __init__(self, channe):\n",
    "#         super(IIPBlock,self).__init__()\n",
    "\n",
    "\n",
    "class InceptionNetwork(nn.Module):\n",
    "    def __init__(self , in_channels = 1, num_classes = 7, reps = 3):\n",
    "        super(InceptionNetwork,self).__init__()\n",
    "\n",
    "        self.conv1 =  ConvolutionBlock(in_channels,64,3,1,1)\n",
    "        self.conv2 =  ConvolutionBlock(64,128,3,1,1)\n",
    "        \n",
    "        # in_channels , out_1x1 , red_3x3 , out_3x3 , red_5x5 , out_5x5 , out_1x1_pooling\n",
    "        self.inception1 = InceptionBlock(128, 32, 48, 64, 8, 16, 16)\n",
    "        self.maxpool1 = nn.MaxPool2d(kernel_size=3,stride=2,padding=1)\n",
    "\n",
    "        self.iip_blocks = []\n",
    "\n",
    "        self.iip_blocks.append(InceptionBlock(128, 32, 48, 64, 8, 16, 16))\n",
    "        self.iip_blocks.append(InceptionBlock(128, 64, 96, 128, 16, 32, 32))\n",
    "        self.iip_blocks.append(nn.MaxPool2d(kernel_size=2,stride=2,padding=1))\n",
    "\n",
    "        self.iip_blocks.append(InceptionBlock(256, 64, 96, 128, 16, 32, 32))\n",
    "        self.iip_blocks.append(InceptionBlock(256, 128, 192, 256, 32, 64, 64))\n",
    "        self.iip_blocks.append(nn.MaxPool2d(kernel_size=2,stride=2,padding=1))\n",
    "\n",
    "        self.iip_blocks.append(InceptionBlock(512, 128, 192, 256, 32, 64, 64))\n",
    "        self.iip_blocks.append(InceptionBlock(512, 128, 192, 256, 32, 64, 64))\n",
    "        self.iip_blocks.append(nn.MaxPool2d(kernel_size=4,stride=4,padding=1))\n",
    "\n",
    "        self.dropout = nn.Dropout(p=0.4)\n",
    "        self.fc1 = nn.Linear( 2048 , num_classes)\n",
    "\n",
    "    def forward(self,x):\n",
    "\n",
    "        x = self.conv1(x)\n",
    "        x = self.conv2(x)\n",
    "        x = self.inception1(x)\n",
    "\n",
    "        x = self.maxpool1(x)\n",
    "\n",
    "        for layer in self.iip_blocks:\n",
    "            x = layer(x)\n",
    "        \n",
    "        x = self.dropout(x)\n",
    "\n",
    "        flattened = x.view(4, -1)\n",
    "        # print(flattened.shape)\n",
    "        x = self.fc1(flattened)\n",
    "        return x\n",
    " "
   ]
  },
  {
   "cell_type": "code",
   "execution_count": 23,
   "metadata": {},
   "outputs": [
    {
     "name": "stdout",
     "output_type": "stream",
     "text": [
      "torch.Size([4, 7])\n"
     ]
    },
    {
     "data": {
      "text/plain": [
       "InceptionNetwork(\n",
       "  (conv1): ConvolutionBlock(\n",
       "    (conv2d): Conv2d(1, 64, kernel_size=(3, 3), stride=(1, 1), padding=(1, 1), bias=False)\n",
       "    (batchnorm2d): BatchNorm2d(64, eps=1e-05, momentum=0.1, affine=True, track_running_stats=True)\n",
       "    (activation): ReLU()\n",
       "  )\n",
       "  (conv2): ConvolutionBlock(\n",
       "    (conv2d): Conv2d(64, 128, kernel_size=(3, 3), stride=(1, 1), padding=(1, 1), bias=False)\n",
       "    (batchnorm2d): BatchNorm2d(128, eps=1e-05, momentum=0.1, affine=True, track_running_stats=True)\n",
       "    (activation): ReLU()\n",
       "  )\n",
       "  (inception1): InceptionBlock(\n",
       "    (branch1): ConvolutionBlock(\n",
       "      (conv2d): Conv2d(128, 32, kernel_size=(1, 1), stride=(1, 1), bias=False)\n",
       "      (batchnorm2d): BatchNorm2d(32, eps=1e-05, momentum=0.1, affine=True, track_running_stats=True)\n",
       "      (activation): ReLU()\n",
       "    )\n",
       "    (branch2): Sequential(\n",
       "      (0): ConvolutionBlock(\n",
       "        (conv2d): Conv2d(128, 48, kernel_size=(1, 1), stride=(1, 1), bias=False)\n",
       "        (batchnorm2d): BatchNorm2d(48, eps=1e-05, momentum=0.1, affine=True, track_running_stats=True)\n",
       "        (activation): ReLU()\n",
       "      )\n",
       "      (1): ConvolutionBlock(\n",
       "        (conv2d): Conv2d(48, 64, kernel_size=(3, 3), stride=(1, 1), padding=(1, 1), bias=False)\n",
       "        (batchnorm2d): BatchNorm2d(64, eps=1e-05, momentum=0.1, affine=True, track_running_stats=True)\n",
       "        (activation): ReLU()\n",
       "      )\n",
       "    )\n",
       "    (branch3): Sequential(\n",
       "      (0): ConvolutionBlock(\n",
       "        (conv2d): Conv2d(128, 8, kernel_size=(1, 1), stride=(1, 1), bias=False)\n",
       "        (batchnorm2d): BatchNorm2d(8, eps=1e-05, momentum=0.1, affine=True, track_running_stats=True)\n",
       "        (activation): ReLU()\n",
       "      )\n",
       "      (1): ConvolutionBlock(\n",
       "        (conv2d): Conv2d(8, 16, kernel_size=(5, 5), stride=(1, 1), padding=(2, 2), bias=False)\n",
       "        (batchnorm2d): BatchNorm2d(16, eps=1e-05, momentum=0.1, affine=True, track_running_stats=True)\n",
       "        (activation): ReLU()\n",
       "      )\n",
       "    )\n",
       "    (branch4): Sequential(\n",
       "      (0): MaxPool2d(kernel_size=3, stride=1, padding=1, dilation=1, ceil_mode=False)\n",
       "      (1): ConvolutionBlock(\n",
       "        (conv2d): Conv2d(128, 16, kernel_size=(1, 1), stride=(1, 1), bias=False)\n",
       "        (batchnorm2d): BatchNorm2d(16, eps=1e-05, momentum=0.1, affine=True, track_running_stats=True)\n",
       "        (activation): ReLU()\n",
       "      )\n",
       "    )\n",
       "  )\n",
       "  (maxpool1): MaxPool2d(kernel_size=3, stride=2, padding=1, dilation=1, ceil_mode=False)\n",
       "  (dropout): Dropout(p=0.4, inplace=False)\n",
       "  (fc1): Linear(in_features=2048, out_features=7, bias=True)\n",
       ")"
      ]
     },
     "execution_count": 23,
     "metadata": {},
     "output_type": "execute_result"
    }
   ],
   "source": [
    "def testInceptionBlock():\n",
    "    x = torch.randn((4,1,48,48))\n",
    "    model = InceptionNetwork()\n",
    "    print(model(x).shape)\n",
    "    return model\n",
    "\n",
    "testInceptionBlock()"
   ]
  },
  {
   "cell_type": "markdown",
   "metadata": {},
   "source": [
    "## Training"
   ]
  },
  {
   "cell_type": "code",
   "execution_count": 24,
   "metadata": {},
   "outputs": [],
   "source": [
    "device = torch.device('cuda') if torch.cuda.is_available() else torch.device('cpu')"
   ]
  },
  {
   "cell_type": "code",
   "execution_count": 25,
   "metadata": {},
   "outputs": [
    {
     "data": {
      "text/plain": [
       "(28709, 48, 48, 1)"
      ]
     },
     "execution_count": 25,
     "metadata": {},
     "output_type": "execute_result"
    }
   ],
   "source": [
    "train_images.shape"
   ]
  },
  {
   "cell_type": "code",
   "execution_count": 26,
   "metadata": {},
   "outputs": [
    {
     "data": {
      "text/plain": [
       "(28709, 7)"
      ]
     },
     "execution_count": 26,
     "metadata": {},
     "output_type": "execute_result"
    }
   ],
   "source": [
    "train_labels.shape"
   ]
  },
  {
   "cell_type": "code",
   "execution_count": 27,
   "metadata": {},
   "outputs": [],
   "source": [
    "model = InceptionNetwork()"
   ]
  },
  {
   "cell_type": "code",
   "execution_count": 28,
   "metadata": {},
   "outputs": [
    {
     "name": "stdout",
     "output_type": "stream",
     "text": [
      "torch.Size([28709, 1, 48, 48])\n"
     ]
    }
   ],
   "source": [
    "print(tensor_train_x.shape)"
   ]
  },
  {
   "cell_type": "code",
   "execution_count": 29,
   "metadata": {},
   "outputs": [],
   "source": [
    "model = model.to(device)\n",
    "\n",
    "criterion = torch.nn.CrossEntropyLoss()\n",
    "optimizer = optim.Adam(model.parameters(), lr=1e-3)\n",
    "num_epochs = 200"
   ]
  },
  {
   "cell_type": "code",
   "execution_count": 30,
   "metadata": {},
   "outputs": [
    {
     "name": "stdout",
     "output_type": "stream",
     "text": [
      "Results after epoch 1\n"
     ]
    },
    {
     "ename": "ZeroDivisionError",
     "evalue": "float division by zero",
     "output_type": "error",
     "traceback": [
      "\u001b[1;31m---------------------------------------------------------------------------\u001b[0m",
      "\u001b[1;31mZeroDivisionError\u001b[0m                         Traceback (most recent call last)",
      "Cell \u001b[1;32mIn[30], line 34\u001b[0m\n\u001b[0;32m     28\u001b[0m         \u001b[38;5;28mprint\u001b[39m(\u001b[38;5;124m'\u001b[39m\u001b[38;5;124mTraining Loss: \u001b[39m\u001b[38;5;132;01m%.3f\u001b[39;00m\u001b[38;5;124m | Training Acc: \u001b[39m\u001b[38;5;132;01m%.3f\u001b[39;00m\u001b[38;5;132;01m%%\u001b[39;00m\u001b[38;5;124m (\u001b[39m\u001b[38;5;132;01m%d\u001b[39;00m\u001b[38;5;124m/\u001b[39m\u001b[38;5;132;01m%d\u001b[39;00m\u001b[38;5;124m)\u001b[39m\u001b[38;5;124m'\u001b[39m\n\u001b[0;32m     29\u001b[0m              \u001b[38;5;241m%\u001b[39m (train_loss \u001b[38;5;241m/\u001b[39m (batch_idx \u001b[38;5;241m+\u001b[39m \u001b[38;5;241m1\u001b[39m), \u001b[38;5;241m100.\u001b[39m \u001b[38;5;241m*\u001b[39m \u001b[38;5;28mfloat\u001b[39m(correct) \u001b[38;5;241m/\u001b[39m total, correct, total))\n\u001b[0;32m     31\u001b[0m \u001b[38;5;28mprint\u001b[39m(\u001b[38;5;124m'\u001b[39m\u001b[38;5;124mResults after epoch \u001b[39m\u001b[38;5;132;01m%d\u001b[39;00m\u001b[38;5;124m'\u001b[39m \u001b[38;5;241m%\u001b[39m (epoch \u001b[38;5;241m+\u001b[39m \u001b[38;5;241m1\u001b[39m))\n\u001b[0;32m     33\u001b[0m \u001b[38;5;28mprint\u001b[39m(\u001b[38;5;124m'\u001b[39m\u001b[38;5;124mTraining Loss: \u001b[39m\u001b[38;5;132;01m%.3f\u001b[39;00m\u001b[38;5;124m | Training Acc: \u001b[39m\u001b[38;5;132;01m%.3f\u001b[39;00m\u001b[38;5;132;01m%%\u001b[39;00m\u001b[38;5;124m (\u001b[39m\u001b[38;5;132;01m%d\u001b[39;00m\u001b[38;5;124m/\u001b[39m\u001b[38;5;132;01m%d\u001b[39;00m\u001b[38;5;124m)\u001b[39m\u001b[38;5;124m'\u001b[39m\n\u001b[1;32m---> 34\u001b[0m       \u001b[38;5;241m%\u001b[39m (train_loss \u001b[38;5;241m/\u001b[39m (batch_idx \u001b[38;5;241m+\u001b[39m \u001b[38;5;241m1\u001b[39m), \u001b[38;5;241m100.\u001b[39m \u001b[38;5;241m*\u001b[39m \u001b[38;5;28mfloat\u001b[39m(correct) \u001b[38;5;241m/\u001b[39m total, correct, total))\n",
      "\u001b[1;31mZeroDivisionError\u001b[0m: float division by zero"
     ]
    }
   ],
   "source": [
    "for epoch in range(num_epochs):\n",
    "    model.train()\n",
    "    train_loss = 0\n",
    "    total = 0\n",
    "    correct = 0\n",
    "\n",
    "    for batch_idx, (inputs, targets) in enumerate(train_loader):\n",
    "\n",
    "        if inputs.shape[0] != 4:\n",
    "            continue\n",
    "        inputs, targets = inputs.to(device), targets.to(device)\n",
    "\n",
    "        optimizer.zero_grad()\n",
    "\n",
    "        outputs = model(inputs)\n",
    "\n",
    "        loss = criterion(outputs, targets)\n",
    "        loss.backward()\n",
    "        optimizer.step()\n",
    "\n",
    "        train_loss += loss.item()\n",
    "        predicted = torch.argmax(outputs, dim=1)\n",
    "\n",
    "        total += len(outputs)\n",
    "        correct += torch.sum(predicted == torch.argmax(targets, dim=1))\n",
    "\n",
    "        if batch_idx % 100 == 0:\n",
    "            print('Training Loss: %.3f | Training Acc: %.3f%% (%d/%d)'\n",
    "                 % (train_loss / (batch_idx + 1), 100. * float(correct) / total, correct, total))\n",
    "\n",
    "    print('Results after epoch %d' % (epoch + 1))\n",
    "\n",
    "    print('Training Loss: %.3f | Training Acc: %.3f%% (%d/%d)'\n",
    "          % (train_loss / (batch_idx + 1), 100. * float(correct) / total, correct, total))"
   ]
  },
  {
   "cell_type": "markdown",
   "metadata": {},
   "source": [
    "## After reference 2\n",
    "\n",
    "\\[2] - Mollahosseini, Ali, et al. „Going Deeper in Facial Expression Recognition using Deep Neural Networks”. 2016 IEEE Winter Conference on Applications of Computer Vision (WACV), 2016, pp. 1–10. arXiv.org, https://doi.org/10.1109/WACV.2016.7477450."
   ]
  },
  {
   "cell_type": "code",
   "execution_count": 94,
   "metadata": {},
   "outputs": [],
   "source": [
    "class InceptionNetwork(nn.Module):\n",
    "    def __init__(self , in_channels = 1, num_classes = 7, reps = 3):\n",
    "        super(InceptionNetwork,self).__init__()\n",
    "\n",
    "        self.conv1 =  ConvolutionBlock(in_channels,64,7,2,1)\n",
    "        self.maxpool1 = nn.MaxPool2d(kernel_size=3,stride=2,padding=0)\n",
    "\n",
    "        self.conv2 =  ConvolutionBlock(64,192,3,1,1)\n",
    "        self.maxpool2 = nn.MaxPool2d(kernel_size=3,stride=2,padding=0)\n",
    "        \n",
    "        # in_channels , out_1x1 , red_3x3 , out_3x3 , red_5x5 , out_5x5 , out_1x1_pooling\n",
    "        self.inception3a = InceptionBlock(192, 64, 96, 128, 16, 32, 32)\n",
    "        self.inception3b = InceptionBlock(256, 128, 128, 192, 32, 96, 64)\n",
    "        # self.maxpool1 = nn.MaxPool2d(kernel_size=3,stride=2,padding=1)\n",
    "\n",
    "\n",
    "        self.maxpool3 = nn.MaxPool2d(kernel_size=3,stride=2,padding=0)\n",
    "        self.inception4a = InceptionBlock(256, 192, 96, 208, 16, 48, 64)\n",
    "\n",
    "        self.avgPool = nn.AvgPool2d(kernel_size=3,stride=2,padding=0)\n",
    "        self.fc1 = nn.Linear( 480 , 4096)\n",
    "        self.fc2 = nn.Linear( 4096 , 1024)\n",
    "        self.fc3 = nn.Linear( 1024 , 7)\n",
    "\n",
    "\n",
    "    def forward(self,x):\n",
    "        val = x.shape[0]\n",
    "        x = self.conv1(x)\n",
    "        x = self.maxpool1(x)\n",
    "\n",
    "        x = self.conv2(x)\n",
    "        x = self.maxpool2(x)\n",
    "\n",
    "        x = self.inception3a(x)\n",
    "        x = self.inception3b(x)\n",
    "\n",
    "        x = self.avgPool(x)\n",
    "\n",
    "        flattened = x.view(val, -1)\n",
    "        x = self.fc1(flattened)\n",
    "        x = self.fc2(x)\n",
    "        x = self.fc3(x)\n",
    "\n",
    "        return x\n",
    " "
   ]
  },
  {
   "cell_type": "code",
   "execution_count": 95,
   "metadata": {},
   "outputs": [],
   "source": [
    "def testInceptionBlock():\n",
    "    x = torch.randn((4,1,48,48))\n",
    "    model = InceptionNetwork()\n",
    "    return model"
   ]
  },
  {
   "cell_type": "code",
   "execution_count": 96,
   "metadata": {},
   "outputs": [
    {
     "data": {
      "text/plain": [
       "InceptionNetwork(\n",
       "  (conv1): ConvolutionBlock(\n",
       "    (conv2d): Conv2d(1, 64, kernel_size=(7, 7), stride=(2, 2), padding=(1, 1), bias=False)\n",
       "    (batchnorm2d): BatchNorm2d(64, eps=1e-05, momentum=0.1, affine=True, track_running_stats=True)\n",
       "    (activation): ReLU()\n",
       "  )\n",
       "  (maxpool1): MaxPool2d(kernel_size=3, stride=2, padding=0, dilation=1, ceil_mode=False)\n",
       "  (conv2): ConvolutionBlock(\n",
       "    (conv2d): Conv2d(64, 192, kernel_size=(3, 3), stride=(1, 1), padding=(1, 1), bias=False)\n",
       "    (batchnorm2d): BatchNorm2d(192, eps=1e-05, momentum=0.1, affine=True, track_running_stats=True)\n",
       "    (activation): ReLU()\n",
       "  )\n",
       "  (maxpool2): MaxPool2d(kernel_size=3, stride=2, padding=0, dilation=1, ceil_mode=False)\n",
       "  (inception3a): InceptionBlock(\n",
       "    (branch1): ConvolutionBlock(\n",
       "      (conv2d): Conv2d(192, 64, kernel_size=(1, 1), stride=(1, 1), bias=False)\n",
       "      (batchnorm2d): BatchNorm2d(64, eps=1e-05, momentum=0.1, affine=True, track_running_stats=True)\n",
       "      (activation): ReLU()\n",
       "    )\n",
       "    (branch2): Sequential(\n",
       "      (0): ConvolutionBlock(\n",
       "        (conv2d): Conv2d(192, 96, kernel_size=(1, 1), stride=(1, 1), bias=False)\n",
       "        (batchnorm2d): BatchNorm2d(96, eps=1e-05, momentum=0.1, affine=True, track_running_stats=True)\n",
       "        (activation): ReLU()\n",
       "      )\n",
       "      (1): ConvolutionBlock(\n",
       "        (conv2d): Conv2d(96, 128, kernel_size=(3, 3), stride=(1, 1), padding=(1, 1), bias=False)\n",
       "        (batchnorm2d): BatchNorm2d(128, eps=1e-05, momentum=0.1, affine=True, track_running_stats=True)\n",
       "        (activation): ReLU()\n",
       "      )\n",
       "    )\n",
       "    (branch3): Sequential(\n",
       "      (0): ConvolutionBlock(\n",
       "        (conv2d): Conv2d(192, 16, kernel_size=(1, 1), stride=(1, 1), bias=False)\n",
       "        (batchnorm2d): BatchNorm2d(16, eps=1e-05, momentum=0.1, affine=True, track_running_stats=True)\n",
       "        (activation): ReLU()\n",
       "      )\n",
       "      (1): ConvolutionBlock(\n",
       "        (conv2d): Conv2d(16, 32, kernel_size=(5, 5), stride=(1, 1), padding=(2, 2), bias=False)\n",
       "        (batchnorm2d): BatchNorm2d(32, eps=1e-05, momentum=0.1, affine=True, track_running_stats=True)\n",
       "        (activation): ReLU()\n",
       "      )\n",
       "    )\n",
       "    (branch4): Sequential(\n",
       "      (0): MaxPool2d(kernel_size=3, stride=1, padding=1, dilation=1, ceil_mode=False)\n",
       "      (1): ConvolutionBlock(\n",
       "        (conv2d): Conv2d(192, 32, kernel_size=(1, 1), stride=(1, 1), bias=False)\n",
       "        (batchnorm2d): BatchNorm2d(32, eps=1e-05, momentum=0.1, affine=True, track_running_stats=True)\n",
       "        (activation): ReLU()\n",
       "      )\n",
       "    )\n",
       "  )\n",
       "  (inception3b): InceptionBlock(\n",
       "    (branch1): ConvolutionBlock(\n",
       "      (conv2d): Conv2d(256, 128, kernel_size=(1, 1), stride=(1, 1), bias=False)\n",
       "      (batchnorm2d): BatchNorm2d(128, eps=1e-05, momentum=0.1, affine=True, track_running_stats=True)\n",
       "      (activation): ReLU()\n",
       "    )\n",
       "    (branch2): Sequential(\n",
       "      (0): ConvolutionBlock(\n",
       "        (conv2d): Conv2d(256, 128, kernel_size=(1, 1), stride=(1, 1), bias=False)\n",
       "        (batchnorm2d): BatchNorm2d(128, eps=1e-05, momentum=0.1, affine=True, track_running_stats=True)\n",
       "        (activation): ReLU()\n",
       "      )\n",
       "      (1): ConvolutionBlock(\n",
       "        (conv2d): Conv2d(128, 192, kernel_size=(3, 3), stride=(1, 1), padding=(1, 1), bias=False)\n",
       "        (batchnorm2d): BatchNorm2d(192, eps=1e-05, momentum=0.1, affine=True, track_running_stats=True)\n",
       "        (activation): ReLU()\n",
       "      )\n",
       "    )\n",
       "    (branch3): Sequential(\n",
       "      (0): ConvolutionBlock(\n",
       "        (conv2d): Conv2d(256, 32, kernel_size=(1, 1), stride=(1, 1), bias=False)\n",
       "        (batchnorm2d): BatchNorm2d(32, eps=1e-05, momentum=0.1, affine=True, track_running_stats=True)\n",
       "        (activation): ReLU()\n",
       "      )\n",
       "      (1): ConvolutionBlock(\n",
       "        (conv2d): Conv2d(32, 96, kernel_size=(5, 5), stride=(1, 1), padding=(2, 2), bias=False)\n",
       "        (batchnorm2d): BatchNorm2d(96, eps=1e-05, momentum=0.1, affine=True, track_running_stats=True)\n",
       "        (activation): ReLU()\n",
       "      )\n",
       "    )\n",
       "    (branch4): Sequential(\n",
       "      (0): MaxPool2d(kernel_size=3, stride=1, padding=1, dilation=1, ceil_mode=False)\n",
       "      (1): ConvolutionBlock(\n",
       "        (conv2d): Conv2d(256, 64, kernel_size=(1, 1), stride=(1, 1), bias=False)\n",
       "        (batchnorm2d): BatchNorm2d(64, eps=1e-05, momentum=0.1, affine=True, track_running_stats=True)\n",
       "        (activation): ReLU()\n",
       "      )\n",
       "    )\n",
       "  )\n",
       "  (maxpool3): MaxPool2d(kernel_size=3, stride=2, padding=0, dilation=1, ceil_mode=False)\n",
       "  (inception4a): InceptionBlock(\n",
       "    (branch1): ConvolutionBlock(\n",
       "      (conv2d): Conv2d(256, 192, kernel_size=(1, 1), stride=(1, 1), bias=False)\n",
       "      (batchnorm2d): BatchNorm2d(192, eps=1e-05, momentum=0.1, affine=True, track_running_stats=True)\n",
       "      (activation): ReLU()\n",
       "    )\n",
       "    (branch2): Sequential(\n",
       "      (0): ConvolutionBlock(\n",
       "        (conv2d): Conv2d(256, 96, kernel_size=(1, 1), stride=(1, 1), bias=False)\n",
       "        (batchnorm2d): BatchNorm2d(96, eps=1e-05, momentum=0.1, affine=True, track_running_stats=True)\n",
       "        (activation): ReLU()\n",
       "      )\n",
       "      (1): ConvolutionBlock(\n",
       "        (conv2d): Conv2d(96, 208, kernel_size=(3, 3), stride=(1, 1), padding=(1, 1), bias=False)\n",
       "        (batchnorm2d): BatchNorm2d(208, eps=1e-05, momentum=0.1, affine=True, track_running_stats=True)\n",
       "        (activation): ReLU()\n",
       "      )\n",
       "    )\n",
       "    (branch3): Sequential(\n",
       "      (0): ConvolutionBlock(\n",
       "        (conv2d): Conv2d(256, 16, kernel_size=(1, 1), stride=(1, 1), bias=False)\n",
       "        (batchnorm2d): BatchNorm2d(16, eps=1e-05, momentum=0.1, affine=True, track_running_stats=True)\n",
       "        (activation): ReLU()\n",
       "      )\n",
       "      (1): ConvolutionBlock(\n",
       "        (conv2d): Conv2d(16, 48, kernel_size=(5, 5), stride=(1, 1), padding=(2, 2), bias=False)\n",
       "        (batchnorm2d): BatchNorm2d(48, eps=1e-05, momentum=0.1, affine=True, track_running_stats=True)\n",
       "        (activation): ReLU()\n",
       "      )\n",
       "    )\n",
       "    (branch4): Sequential(\n",
       "      (0): MaxPool2d(kernel_size=3, stride=1, padding=1, dilation=1, ceil_mode=False)\n",
       "      (1): ConvolutionBlock(\n",
       "        (conv2d): Conv2d(256, 64, kernel_size=(1, 1), stride=(1, 1), bias=False)\n",
       "        (batchnorm2d): BatchNorm2d(64, eps=1e-05, momentum=0.1, affine=True, track_running_stats=True)\n",
       "        (activation): ReLU()\n",
       "      )\n",
       "    )\n",
       "  )\n",
       "  (avgPool): AvgPool2d(kernel_size=3, stride=2, padding=0)\n",
       "  (fc1): Linear(in_features=480, out_features=4096, bias=True)\n",
       "  (fc2): Linear(in_features=4096, out_features=1024, bias=True)\n",
       "  (fc3): Linear(in_features=1024, out_features=7, bias=True)\n",
       ")"
      ]
     },
     "execution_count": 96,
     "metadata": {},
     "output_type": "execute_result"
    }
   ],
   "source": [
    "testInceptionBlock()"
   ]
  },
  {
   "cell_type": "code",
   "execution_count": 97,
   "metadata": {},
   "outputs": [],
   "source": [
    "device = torch.device('cuda') if torch.cuda.is_available() else torch.device('cpu')"
   ]
  },
  {
   "cell_type": "code",
   "execution_count": 98,
   "metadata": {},
   "outputs": [],
   "source": [
    "model = InceptionNetwork()\n",
    "model = model.to(device=device)\n",
    "\n",
    "criterion = torch.nn.CrossEntropyLoss()\n",
    "optimizer = optim.Adam(model.parameters(), lr=1e-3)\n",
    "num_epochs = 10 "
   ]
  },
  {
   "cell_type": "code",
   "execution_count": 99,
   "metadata": {},
   "outputs": [],
   "source": [
    "def evaluate():\n",
    "    model.eval()\n",
    "\n",
    "    valid_loss = 0\n",
    "    correct = 0\n",
    "    total = 0\n",
    "\n",
    "    for batch_idx, (inputs, targets) in enumerate(val_loader):\n",
    "\n",
    "        \n",
    "        if inputs.shape[0] != batch_size:\n",
    "            continue\n",
    "        inputs, targets = inputs.to(device), targets.to(device)\n",
    "\n",
    "        outputs = model(inputs)\n",
    "\n",
    "        loss = criterion(outputs, targets)\n",
    "\n",
    "        valid_loss += loss.item()\n",
    "        predicted = torch.argmax(outputs, dim=1)\n",
    "        total += len(outputs)\n",
    "        correct += torch.sum(predicted == torch.argmax(targets, dim=1))\n",
    "\n",
    "    print('  >>> Validation Loss: %.3f | Validation Acc: %.3f%% (%d/%d)'\n",
    "        % (valid_loss / (batch_idx + 1), 100. * float(correct) / total, correct, total))\n",
    "    \n",
    "    return valid_loss / (batch_idx + 1), 100. * float(correct) / total"
   ]
  },
  {
   "cell_type": "code",
   "execution_count": 100,
   "metadata": {},
   "outputs": [],
   "source": [
    "from torch.optim.lr_scheduler import PolynomialLR\n",
    "\n",
    "scheduler = PolynomialLR(optimizer=optimizer, total_iters=10, power=0.5)"
   ]
  },
  {
   "cell_type": "code",
   "execution_count": 101,
   "metadata": {},
   "outputs": [
    {
     "name": "stdout",
     "output_type": "stream",
     "text": [
      ">>> Training starting...\n"
     ]
    }
   ],
   "source": [
    "train_losses = []\n",
    "train_acc = []\n",
    "valid_loss = []\n",
    "valid_acc = []\n",
    "\n",
    "print(\">>> Training starting...\")\n",
    "for epoch in range(num_epochs):\n",
    "    model.train()\n",
    "    train_loss = 0\n",
    "    total = 0\n",
    "    correct = 0\n",
    "\n",
    "    for batch_idx, (inputs, targets) in enumerate(train_loader):\n",
    "\n",
    "        if inputs.shape[0] != 4:\n",
    "            continue\n",
    "        inputs, targets = inputs.to(device), targets.to(device)\n",
    "\n",
    "        # print(inputs.shape)\n",
    "        optimizer.zero_grad()\n",
    "\n",
    "        outputs = model(inputs)\n",
    "\n",
    "        loss = criterion(outputs, targets)\n",
    "        loss.backward()\n",
    "        optimizer.step()\n",
    "\n",
    "        train_loss += loss.item()\n",
    "        predicted = torch.argmax(outputs, dim=1)\n",
    "\n",
    "        total += len(outputs)\n",
    "        correct += torch.sum(predicted == torch.argmax(targets, dim=1))\n",
    "\n",
    "        if batch_idx % 2000 == 0:\n",
    "            print('Training Loss: %.3f | Training Acc: %.3f%% (%d/%d)'\n",
    "                 % (train_loss / (batch_idx + 1), 100. * float(correct) / total, correct, total))\n",
    "            train_losses.append(train_loss / (batch_idx + 1))\n",
    "            train_acc.append(100. * float(correct) / total)\n",
    "\n",
    "    print('>>> Results after epoch %d' % (epoch + 1))\n",
    "\n",
    "    print('  >>> Training Loss: %.3f | Training Acc: %.3f%% (%d/%d)'\n",
    "          % (train_loss / (batch_idx + 1), 100. * float(correct) / total, correct, total))\n",
    "   \n",
    "    val_loss, val_acc = evaluate()\n",
    "    valid_loss.append(val_loss)\n",
    "    valid_acc.append(val_acc)\n",
    "\n",
    "    scheduler.step()\n",
    "   "
   ]
  },
  {
   "cell_type": "markdown",
   "metadata": {},
   "source": [
    "## Second impl"
   ]
  },
  {
   "cell_type": "code",
   "execution_count": 31,
   "metadata": {},
   "outputs": [],
   "source": [
    "class InceptionNetwork(nn.Module):\n",
    "    def __init__(self , in_channels = 1, num_classes = 7, reps = 3):\n",
    "        super(InceptionNetwork,self).__init__()\n",
    "\n",
    "        self.conv1 =  ConvolutionBlock(in_channels,64,7,2,3)\n",
    "        self.maxpool1 = nn.MaxPool2d(kernel_size=3,stride=2,padding=1)\n",
    "\n",
    "        self.conv2 =  ConvolutionBlock(64,192,3,1,1)\n",
    "        self.maxpool2 = nn.MaxPool2d(kernel_size=3,stride=2,padding=1)\n",
    "        \n",
    "        # in_channels , out_1x1 , red_3x3 , out_3x3 , red_5x5 , out_5x5 , out_1x1_pooling\n",
    "        self.inception3a = InceptionBlock(192, 64, 96, 128, 16, 32, 32)\n",
    "        self.inception3b = InceptionBlock(256, 128, 128, 192, 32, 96, 64)\n",
    "        # self.maxpool1 = nn.MaxPool2d(kernel_size=3,stride=2,padding=1)\n",
    "\n",
    "\n",
    "        self.maxpool3 = nn.MaxPool2d(kernel_size=3,stride=2,padding=1)\n",
    "        self.inception4a = InceptionBlock(480, 192, 96, 208, 16, 48, 64)\n",
    "\n",
    "        self.avgPool = nn.AvgPool2d(kernel_size=3,stride=1,padding=0)\n",
    "        self.fc1 = nn.Linear( 512 , 4096)\n",
    "        self.fc2 = nn.Linear( 4096 , 1024)\n",
    "        self.fc3 = nn.Linear( 1024 , 7)\n",
    "\n",
    "\n",
    "    def forward(self,x):\n",
    "        val = x.shape[0]\n",
    "\n",
    "        x = self.conv1(x)\n",
    "        x = self.maxpool1(x)\n",
    "\n",
    "        x = self.conv2(x)\n",
    "        x = self.maxpool2(x)\n",
    "\n",
    "        x = self.inception3a(x)\n",
    "\n",
    "        x = self.inception3b(x)\n",
    "\n",
    "        x = self.maxpool3(x)\n",
    "        x = self.inception4a(x)\n",
    "        \n",
    "        x = self.avgPool(x)\n",
    "\n",
    "        flattened = x.view(val, -1)\n",
    "        x = self.fc1(flattened)\n",
    "        x = self.fc2(x)\n",
    "        x = self.fc3(x)\n",
    "\n",
    "        return x\n",
    " \n",
    " \n",
    "def testInceptionBlock():\n",
    "    x = torch.randn((64,1,48,48))\n",
    "    model = InceptionNetwork()\n",
    "    rez = model(x)\n",
    "    return model"
   ]
  },
  {
   "cell_type": "code",
   "execution_count": 32,
   "metadata": {},
   "outputs": [
    {
     "data": {
      "text/plain": [
       "InceptionNetwork(\n",
       "  (conv1): ConvolutionBlock(\n",
       "    (conv2d): Conv2d(1, 64, kernel_size=(7, 7), stride=(2, 2), padding=(3, 3), bias=False)\n",
       "    (batchnorm2d): BatchNorm2d(64, eps=1e-05, momentum=0.1, affine=True, track_running_stats=True)\n",
       "    (activation): ReLU()\n",
       "  )\n",
       "  (maxpool1): MaxPool2d(kernel_size=3, stride=2, padding=1, dilation=1, ceil_mode=False)\n",
       "  (conv2): ConvolutionBlock(\n",
       "    (conv2d): Conv2d(64, 192, kernel_size=(3, 3), stride=(1, 1), padding=(1, 1), bias=False)\n",
       "    (batchnorm2d): BatchNorm2d(192, eps=1e-05, momentum=0.1, affine=True, track_running_stats=True)\n",
       "    (activation): ReLU()\n",
       "  )\n",
       "  (maxpool2): MaxPool2d(kernel_size=3, stride=2, padding=1, dilation=1, ceil_mode=False)\n",
       "  (inception3a): InceptionBlock(\n",
       "    (branch1): ConvolutionBlock(\n",
       "      (conv2d): Conv2d(192, 64, kernel_size=(1, 1), stride=(1, 1), bias=False)\n",
       "      (batchnorm2d): BatchNorm2d(64, eps=1e-05, momentum=0.1, affine=True, track_running_stats=True)\n",
       "      (activation): ReLU()\n",
       "    )\n",
       "    (branch2): Sequential(\n",
       "      (0): ConvolutionBlock(\n",
       "        (conv2d): Conv2d(192, 96, kernel_size=(1, 1), stride=(1, 1), bias=False)\n",
       "        (batchnorm2d): BatchNorm2d(96, eps=1e-05, momentum=0.1, affine=True, track_running_stats=True)\n",
       "        (activation): ReLU()\n",
       "      )\n",
       "      (1): ConvolutionBlock(\n",
       "        (conv2d): Conv2d(96, 128, kernel_size=(3, 3), stride=(1, 1), padding=(1, 1), bias=False)\n",
       "        (batchnorm2d): BatchNorm2d(128, eps=1e-05, momentum=0.1, affine=True, track_running_stats=True)\n",
       "        (activation): ReLU()\n",
       "      )\n",
       "    )\n",
       "    (branch3): Sequential(\n",
       "      (0): ConvolutionBlock(\n",
       "        (conv2d): Conv2d(192, 16, kernel_size=(1, 1), stride=(1, 1), bias=False)\n",
       "        (batchnorm2d): BatchNorm2d(16, eps=1e-05, momentum=0.1, affine=True, track_running_stats=True)\n",
       "        (activation): ReLU()\n",
       "      )\n",
       "      (1): ConvolutionBlock(\n",
       "        (conv2d): Conv2d(16, 32, kernel_size=(5, 5), stride=(1, 1), padding=(2, 2), bias=False)\n",
       "        (batchnorm2d): BatchNorm2d(32, eps=1e-05, momentum=0.1, affine=True, track_running_stats=True)\n",
       "        (activation): ReLU()\n",
       "      )\n",
       "    )\n",
       "    (branch4): Sequential(\n",
       "      (0): MaxPool2d(kernel_size=3, stride=1, padding=1, dilation=1, ceil_mode=False)\n",
       "      (1): ConvolutionBlock(\n",
       "        (conv2d): Conv2d(192, 32, kernel_size=(1, 1), stride=(1, 1), bias=False)\n",
       "        (batchnorm2d): BatchNorm2d(32, eps=1e-05, momentum=0.1, affine=True, track_running_stats=True)\n",
       "        (activation): ReLU()\n",
       "      )\n",
       "    )\n",
       "  )\n",
       "  (inception3b): InceptionBlock(\n",
       "    (branch1): ConvolutionBlock(\n",
       "      (conv2d): Conv2d(256, 128, kernel_size=(1, 1), stride=(1, 1), bias=False)\n",
       "      (batchnorm2d): BatchNorm2d(128, eps=1e-05, momentum=0.1, affine=True, track_running_stats=True)\n",
       "      (activation): ReLU()\n",
       "    )\n",
       "    (branch2): Sequential(\n",
       "      (0): ConvolutionBlock(\n",
       "        (conv2d): Conv2d(256, 128, kernel_size=(1, 1), stride=(1, 1), bias=False)\n",
       "        (batchnorm2d): BatchNorm2d(128, eps=1e-05, momentum=0.1, affine=True, track_running_stats=True)\n",
       "        (activation): ReLU()\n",
       "      )\n",
       "      (1): ConvolutionBlock(\n",
       "        (conv2d): Conv2d(128, 192, kernel_size=(3, 3), stride=(1, 1), padding=(1, 1), bias=False)\n",
       "        (batchnorm2d): BatchNorm2d(192, eps=1e-05, momentum=0.1, affine=True, track_running_stats=True)\n",
       "        (activation): ReLU()\n",
       "      )\n",
       "    )\n",
       "    (branch3): Sequential(\n",
       "      (0): ConvolutionBlock(\n",
       "        (conv2d): Conv2d(256, 32, kernel_size=(1, 1), stride=(1, 1), bias=False)\n",
       "        (batchnorm2d): BatchNorm2d(32, eps=1e-05, momentum=0.1, affine=True, track_running_stats=True)\n",
       "        (activation): ReLU()\n",
       "      )\n",
       "      (1): ConvolutionBlock(\n",
       "        (conv2d): Conv2d(32, 96, kernel_size=(5, 5), stride=(1, 1), padding=(2, 2), bias=False)\n",
       "        (batchnorm2d): BatchNorm2d(96, eps=1e-05, momentum=0.1, affine=True, track_running_stats=True)\n",
       "        (activation): ReLU()\n",
       "      )\n",
       "    )\n",
       "    (branch4): Sequential(\n",
       "      (0): MaxPool2d(kernel_size=3, stride=1, padding=1, dilation=1, ceil_mode=False)\n",
       "      (1): ConvolutionBlock(\n",
       "        (conv2d): Conv2d(256, 64, kernel_size=(1, 1), stride=(1, 1), bias=False)\n",
       "        (batchnorm2d): BatchNorm2d(64, eps=1e-05, momentum=0.1, affine=True, track_running_stats=True)\n",
       "        (activation): ReLU()\n",
       "      )\n",
       "    )\n",
       "  )\n",
       "  (maxpool3): MaxPool2d(kernel_size=3, stride=2, padding=1, dilation=1, ceil_mode=False)\n",
       "  (inception4a): InceptionBlock(\n",
       "    (branch1): ConvolutionBlock(\n",
       "      (conv2d): Conv2d(480, 192, kernel_size=(1, 1), stride=(1, 1), bias=False)\n",
       "      (batchnorm2d): BatchNorm2d(192, eps=1e-05, momentum=0.1, affine=True, track_running_stats=True)\n",
       "      (activation): ReLU()\n",
       "    )\n",
       "    (branch2): Sequential(\n",
       "      (0): ConvolutionBlock(\n",
       "        (conv2d): Conv2d(480, 96, kernel_size=(1, 1), stride=(1, 1), bias=False)\n",
       "        (batchnorm2d): BatchNorm2d(96, eps=1e-05, momentum=0.1, affine=True, track_running_stats=True)\n",
       "        (activation): ReLU()\n",
       "      )\n",
       "      (1): ConvolutionBlock(\n",
       "        (conv2d): Conv2d(96, 208, kernel_size=(3, 3), stride=(1, 1), padding=(1, 1), bias=False)\n",
       "        (batchnorm2d): BatchNorm2d(208, eps=1e-05, momentum=0.1, affine=True, track_running_stats=True)\n",
       "        (activation): ReLU()\n",
       "      )\n",
       "    )\n",
       "    (branch3): Sequential(\n",
       "      (0): ConvolutionBlock(\n",
       "        (conv2d): Conv2d(480, 16, kernel_size=(1, 1), stride=(1, 1), bias=False)\n",
       "        (batchnorm2d): BatchNorm2d(16, eps=1e-05, momentum=0.1, affine=True, track_running_stats=True)\n",
       "        (activation): ReLU()\n",
       "      )\n",
       "      (1): ConvolutionBlock(\n",
       "        (conv2d): Conv2d(16, 48, kernel_size=(5, 5), stride=(1, 1), padding=(2, 2), bias=False)\n",
       "        (batchnorm2d): BatchNorm2d(48, eps=1e-05, momentum=0.1, affine=True, track_running_stats=True)\n",
       "        (activation): ReLU()\n",
       "      )\n",
       "    )\n",
       "    (branch4): Sequential(\n",
       "      (0): MaxPool2d(kernel_size=3, stride=1, padding=1, dilation=1, ceil_mode=False)\n",
       "      (1): ConvolutionBlock(\n",
       "        (conv2d): Conv2d(480, 64, kernel_size=(1, 1), stride=(1, 1), bias=False)\n",
       "        (batchnorm2d): BatchNorm2d(64, eps=1e-05, momentum=0.1, affine=True, track_running_stats=True)\n",
       "        (activation): ReLU()\n",
       "      )\n",
       "    )\n",
       "  )\n",
       "  (avgPool): AvgPool2d(kernel_size=3, stride=1, padding=0)\n",
       "  (fc1): Linear(in_features=512, out_features=4096, bias=True)\n",
       "  (fc2): Linear(in_features=4096, out_features=1024, bias=True)\n",
       "  (fc3): Linear(in_features=1024, out_features=7, bias=True)\n",
       ")"
      ]
     },
     "execution_count": 32,
     "metadata": {},
     "output_type": "execute_result"
    }
   ],
   "source": [
    "testInceptionBlock()"
   ]
  },
  {
   "cell_type": "code",
   "execution_count": 39,
   "metadata": {},
   "outputs": [],
   "source": [
    "model = InceptionNetwork()\n",
    "model = model.to(device=device)\n",
    "\n",
    "criterion = torch.nn.CrossEntropyLoss()\n",
    "optimizer = optim.Adam(model.parameters(), lr=1e-3)\n",
    "num_epochs = 12"
   ]
  },
  {
   "cell_type": "code",
   "execution_count": 40,
   "metadata": {},
   "outputs": [],
   "source": [
    "architecture = 'InceptionBlock2'\n",
    "# model_graph = draw_graph(model, input_size=(4,1,48,48), graph_dir ='TB' , roll=True, expand_nested=True, graph_name=f'self_{architecture}',save_graph=True,filename=f'self_{architecture}')\n",
    "# model_graph.visual_graph"
   ]
  },
  {
   "cell_type": "code",
   "execution_count": 41,
   "metadata": {},
   "outputs": [],
   "source": [
    "from torch.optim.lr_scheduler import PolynomialLR\n",
    "\n",
    "scheduler = PolynomialLR(optimizer=optimizer, total_iters=20, power=0.5)"
   ]
  },
  {
   "cell_type": "code",
   "execution_count": 42,
   "metadata": {},
   "outputs": [
    {
     "name": "stdout",
     "output_type": "stream",
     "text": [
      "64\n"
     ]
    }
   ],
   "source": [
    "print(batch_size)"
   ]
  },
  {
   "cell_type": "code",
   "execution_count": 43,
   "metadata": {},
   "outputs": [
    {
     "name": "stdout",
     "output_type": "stream",
     "text": [
      ">>> Training starting...\n",
      "Training Loss: 1.950 | Training Acc: 17.188% (11/64)\n",
      "Training Loss: 2.013 | Training Acc: 26.377% (1705/6464)\n",
      "Training Loss: 1.809 | Training Acc: 31.911% (4105/12864)\n",
      "Training Loss: 1.710 | Training Acc: 35.444% (6828/19264)\n",
      "Training Loss: 1.645 | Training Acc: 37.406% (9600/25664)\n",
      ">>> Results after epoch 1\n",
      "  >>> Training Loss: 1.614 | Training Acc: 38.480% (11033/28672)\n",
      "  >>> Validation Loss: 1.491 | Validation Acc: 42.243% (1514/3584)\n",
      "Training Loss: 1.346 | Training Acc: 50.000% (32/64)\n",
      "Training Loss: 1.363 | Training Acc: 47.649% (3080/6464)\n",
      "Training Loss: 1.342 | Training Acc: 49.059% (6311/12864)\n",
      "Training Loss: 1.322 | Training Acc: 49.933% (9619/19264)\n",
      "Training Loss: 1.314 | Training Acc: 50.316% (12913/25664)\n",
      ">>> Results after epoch 2\n",
      "  >>> Training Loss: 1.306 | Training Acc: 50.471% (14471/28672)\n",
      "  >>> Validation Loss: 1.269 | Validation Acc: 50.000% (1792/3584)\n",
      "Training Loss: 1.022 | Training Acc: 68.750% (44/64)\n",
      "Training Loss: 1.202 | Training Acc: 54.657% (3533/6464)\n",
      "Training Loss: 1.187 | Training Acc: 55.706% (7166/12864)\n",
      "Training Loss: 1.177 | Training Acc: 55.845% (10758/19264)\n",
      "Training Loss: 1.172 | Training Acc: 56.086% (14394/25664)\n",
      ">>> Results after epoch 3\n",
      "  >>> Training Loss: 1.168 | Training Acc: 56.253% (16129/28672)\n",
      "  >>> Validation Loss: 1.201 | Validation Acc: 54.408% (1950/3584)\n",
      "Training Loss: 1.142 | Training Acc: 64.062% (41/64)\n",
      "Training Loss: 1.060 | Training Acc: 60.396% (3904/6464)\n",
      "Training Loss: 1.076 | Training Acc: 59.849% (7699/12864)\n",
      "Training Loss: 1.072 | Training Acc: 59.764% (11513/19264)\n",
      "Training Loss: 1.072 | Training Acc: 59.815% (15351/25664)\n",
      ">>> Results after epoch 4\n",
      "  >>> Training Loss: 1.069 | Training Acc: 59.748% (17131/28672)\n",
      "  >>> Validation Loss: 1.304 | Validation Acc: 50.474% (1809/3584)\n",
      "Training Loss: 1.029 | Training Acc: 60.938% (39/64)\n",
      "Training Loss: 0.957 | Training Acc: 64.372% (4161/6464)\n",
      "Training Loss: 0.968 | Training Acc: 63.137% (8122/12864)\n",
      "Training Loss: 0.973 | Training Acc: 63.346% (12203/19264)\n",
      "Training Loss: 0.972 | Training Acc: 63.490% (16294/25664)\n",
      ">>> Results after epoch 5\n",
      "  >>> Training Loss: 0.967 | Training Acc: 63.606% (18237/28672)\n",
      "  >>> Validation Loss: 1.158 | Validation Acc: 57.310% (2054/3584)\n",
      "Training Loss: 0.785 | Training Acc: 71.875% (46/64)\n",
      "Training Loss: 0.847 | Training Acc: 68.472% (4426/6464)\n",
      "Training Loss: 0.858 | Training Acc: 68.136% (8765/12864)\n",
      "Training Loss: 0.875 | Training Acc: 67.551% (13013/19264)\n",
      "Training Loss: 0.874 | Training Acc: 67.624% (17355/25664)\n",
      ">>> Results after epoch 6\n",
      "  >>> Training Loss: 0.873 | Training Acc: 67.494% (19352/28672)\n",
      "  >>> Validation Loss: 1.130 | Validation Acc: 59.180% (2121/3584)\n",
      "Training Loss: 0.853 | Training Acc: 67.188% (43/64)\n",
      "Training Loss: 0.750 | Training Acc: 71.875% (4646/6464)\n",
      "Training Loss: 0.749 | Training Acc: 72.326% (9304/12864)\n",
      "Training Loss: 0.764 | Training Acc: 71.605% (13794/19264)\n",
      "Training Loss: 0.767 | Training Acc: 71.462% (18340/25664)\n",
      ">>> Results after epoch 7\n",
      "  >>> Training Loss: 0.768 | Training Acc: 71.411% (20475/28672)\n",
      "  >>> Validation Loss: 1.153 | Validation Acc: 59.347% (2127/3584)\n",
      "Training Loss: 0.601 | Training Acc: 73.438% (47/64)\n",
      "Training Loss: 0.606 | Training Acc: 78.032% (5044/6464)\n",
      "Training Loss: 0.633 | Training Acc: 76.943% (9898/12864)\n",
      "Training Loss: 0.648 | Training Acc: 76.199% (14679/19264)\n",
      "Training Loss: 0.653 | Training Acc: 76.060% (19520/25664)\n",
      ">>> Results after epoch 8\n",
      "  >>> Training Loss: 0.657 | Training Acc: 75.889% (21759/28672)\n",
      "  >>> Validation Loss: 1.297 | Validation Acc: 56.473% (2024/3584)\n",
      "Training Loss: 0.497 | Training Acc: 81.250% (52/64)\n",
      "Training Loss: 0.485 | Training Acc: 82.441% (5329/6464)\n",
      "Training Loss: 0.507 | Training Acc: 81.273% (10455/12864)\n",
      "Training Loss: 0.524 | Training Acc: 80.565% (15520/19264)\n",
      "Training Loss: 0.535 | Training Acc: 80.143% (20568/25664)\n",
      ">>> Results after epoch 9\n",
      "  >>> Training Loss: 0.542 | Training Acc: 79.844% (22893/28672)\n",
      "  >>> Validation Loss: 1.356 | Validation Acc: 55.106% (1975/3584)\n",
      "Training Loss: 0.556 | Training Acc: 78.125% (50/64)\n",
      "Training Loss: 0.382 | Training Acc: 86.092% (5565/6464)\n",
      "Training Loss: 0.407 | Training Acc: 85.137% (10952/12864)\n",
      "Training Loss: 0.423 | Training Acc: 84.541% (16286/19264)\n",
      "Training Loss: 0.432 | Training Acc: 84.250% (21622/25664)\n",
      ">>> Results after epoch 10\n",
      "  >>> Training Loss: 0.434 | Training Acc: 84.141% (24125/28672)\n",
      "  >>> Validation Loss: 1.503 | Validation Acc: 57.478% (2060/3584)\n",
      "Training Loss: 0.266 | Training Acc: 93.750% (60/64)\n",
      "Training Loss: 0.304 | Training Acc: 89.248% (5769/6464)\n",
      "Training Loss: 0.319 | Training Acc: 88.612% (11399/12864)\n",
      "Training Loss: 0.332 | Training Acc: 88.164% (16984/19264)\n",
      "Training Loss: 0.344 | Training Acc: 87.761% (22523/25664)\n",
      ">>> Results after epoch 11\n",
      "  >>> Training Loss: 0.347 | Training Acc: 87.556% (25104/28672)\n",
      "  >>> Validation Loss: 1.770 | Validation Acc: 55.134% (1976/3584)\n",
      "Training Loss: 0.283 | Training Acc: 93.750% (60/64)\n",
      "Training Loss: 0.235 | Training Acc: 91.739% (5930/6464)\n",
      "Training Loss: 0.245 | Training Acc: 91.317% (11747/12864)\n",
      "Training Loss: 0.256 | Training Acc: 90.879% (17507/19264)\n",
      "Training Loss: 0.262 | Training Acc: 90.656% (23266/25664)\n",
      ">>> Results after epoch 12\n",
      "  >>> Training Loss: 0.266 | Training Acc: 90.531% (25957/28672)\n",
      "  >>> Validation Loss: 1.717 | Validation Acc: 61.300% (2197/3584)\n"
     ]
    }
   ],
   "source": [
    "\n",
    "train_losses = []\n",
    "train_acc = []\n",
    "valid_loss = []\n",
    "valid_acc = []\n",
    "\n",
    "print(\">>> Training starting...\")\n",
    "for epoch in range(num_epochs):\n",
    "    model.train()\n",
    "    train_loss = 0\n",
    "    total = 0\n",
    "    correct = 0\n",
    "\n",
    "    for batch_idx, (inputs, targets) in enumerate(train_loader):\n",
    "\n",
    "        if inputs.shape[0] != batch_size:\n",
    "            continue\n",
    "        inputs, targets = inputs.to(device), targets.to(device)\n",
    "\n",
    "        # print(inputs.shape)\n",
    "        optimizer.zero_grad()\n",
    "\n",
    "        outputs = model(inputs)\n",
    "\n",
    "        loss = criterion(outputs, targets)\n",
    "        loss.backward()\n",
    "        optimizer.step()\n",
    "\n",
    "        train_loss += loss.item()\n",
    "        predicted = torch.argmax(outputs, dim=1)\n",
    "\n",
    "        total += len(outputs)\n",
    "        correct += torch.sum(predicted == torch.argmax(targets, dim=1))\n",
    "\n",
    "        if batch_idx % 100 == 0:\n",
    "            print('Training Loss: %.3f | Training Acc: %.3f%% (%d/%d)'\n",
    "                 % (train_loss / (batch_idx + 1), 100. * float(correct) / total, correct, total))\n",
    "\n",
    "    print('>>> Results after epoch %d' % (epoch + 1))\n",
    "\n",
    "    print('  >>> Training Loss: %.3f | Training Acc: %.3f%% (%d/%d)'\n",
    "          % (train_loss / (batch_idx + 1), 100. * float(correct) / total, correct, total))\n",
    "    train_losses.append(train_loss / (batch_idx + 1))\n",
    "    train_acc.append(100. * float(correct) / total)\n",
    "    val_loss, val_acc = evaluate()\n",
    "    valid_loss.append(val_loss)\n",
    "    valid_acc.append(val_acc)\n",
    "\n",
    "    scheduler.step()\n",
    "   "
   ]
  },
  {
   "cell_type": "code",
   "execution_count": 44,
   "metadata": {},
   "outputs": [
    {
     "name": "stdout",
     "output_type": "stream",
     "text": [
      "12\n"
     ]
    }
   ],
   "source": [
    "print(len(valid_acc))"
   ]
  },
  {
   "cell_type": "code",
   "execution_count": 45,
   "metadata": {},
   "outputs": [
    {
     "name": "stdout",
     "output_type": "stream",
     "text": [
      "12\n"
     ]
    }
   ],
   "source": [
    "print(len(train_acc))"
   ]
  },
  {
   "cell_type": "code",
   "execution_count": 46,
   "metadata": {},
   "outputs": [
    {
     "data": {
      "image/png": "[encoded data removed]",
      "text/plain": [
       "<Figure size 640x480 with 1 Axes>"
      ]
     },
     "metadata": {},
     "output_type": "display_data"
    }
   ],
   "source": [
    "epochs = range(1, len(valid_acc) + 1)\n",
    "\n",
    "plt.plot(epochs, train_acc, label='Training Accuracy')\n",
    "\n",
    "plt.plot(epochs, valid_acc, label='Validation Accuracy')\n",
    "\n",
    "plt.xlabel('Epochs')\n",
    "plt.ylabel('Accuracy')\n",
    "plt.title('Training and Validation Accuracies over Epochs')\n",
    "\n",
    "# Adding a legend\n",
    "plt.legend()\n",
    "\n",
    "# Display the plot\n",
    "plt.show()"
   ]
  },
  {
   "cell_type": "code",
   "execution_count": 47,
   "metadata": {},
   "outputs": [
    {
     "data": {
      "image/png": "[encoded data removed]",
      "text/plain": [
       "<Figure size 640x480 with 1 Axes>"
      ]
     },
     "metadata": {},
     "output_type": "display_data"
    }
   ],
   "source": [
    "epochs = range(1, len(valid_acc) + 1)\n",
    "\n",
    "plt.plot(epochs, train_losses, label='Training Loss')\n",
    "\n",
    "plt.plot(epochs, valid_loss, label='Validation Loss')\n",
    "\n",
    "plt.xlabel('Epochs')\n",
    "plt.ylabel('Loss')\n",
    "plt.title('Training and Validation Loss over Epochs')\n",
    "\n",
    "# Adding a legend\n",
    "plt.legend()\n",
    "\n",
    "# Display the plot\n",
    "plt.show()"
   ]
  },
  {
   "cell_type": "code",
   "execution_count": 48,
   "metadata": {},
   "outputs": [],
   "source": [
    "def test_model():\n",
    "    model.eval()\n",
    "\n",
    "    test_loss = 0\n",
    "    correct = 0\n",
    "    total = 0\n",
    "\n",
    "    for batch_idx, (inputs, targets) in enumerate(test_loader):\n",
    "        \n",
    "        if inputs.shape[0] != batch_size:\n",
    "            continue\n",
    "        inputs, targets = inputs.to(device), targets.to(device)\n",
    "        # print(inputs.shape)\n",
    "        outputs = model(inputs)\n",
    "\n",
    "        loss = criterion(outputs, targets)\n",
    "\n",
    "        test_loss += loss.item()\n",
    "        predicted = torch.argmax(outputs, dim=1)\n",
    "        total += len(outputs)\n",
    "        correct += torch.sum(predicted == torch.argmax(targets, dim=1))\n",
    "\n",
    "    print('  >>> Test Loss: %.3f | Test Acc: %.3f%% (%d/%d)'\n",
    "        % (test_loss / (batch_idx + 1), 100. * float(correct) / total, correct, total))\n",
    "    \n",
    "    return test_loss / (batch_idx + 1), 100. * float(correct) / total"
   ]
  },
  {
   "cell_type": "code",
   "execution_count": 49,
   "metadata": {},
   "outputs": [
    {
     "name": "stdout",
     "output_type": "stream",
     "text": [
      "  >>> Test Loss: 1.766 | Test Acc: 59.738% (2141/3584)\n"
     ]
    },
    {
     "data": {
      "text/plain": [
       "(1.7655984184198212, 59.737723214285715)"
      ]
     },
     "execution_count": 49,
     "metadata": {},
     "output_type": "execute_result"
    }
   ],
   "source": [
    "test_model()"
   ]
  },
  {
   "cell_type": "code",
   "execution_count": 50,
   "metadata": {},
   "outputs": [],
   "source": [
    "model2 = model"
   ]
  },
  {
   "cell_type": "code",
   "execution_count": 55,
   "metadata": {},
   "outputs": [
    {
     "name": "stdout",
     "output_type": "stream",
     "text": [
      "[1. 0. 0. 0. 0. 0. 0.]\n"
     ]
    }
   ],
   "source": [
    "print(train_labels[random_index])"
   ]
  },
  {
   "cell_type": "code",
   "execution_count": 58,
   "metadata": {},
   "outputs": [
    {
     "name": "stdout",
     "output_type": "stream",
     "text": [
      "(1, 1, 48, 48)\n",
      "torch.Size([1, 1, 48, 48])\n"
     ]
    },
    {
     "data": {
      "image/png": "[encoded data removed]",
      "text/plain": [
       "<Figure size 640x480 with 1 Axes>"
      ]
     },
     "metadata": {},
     "output_type": "display_data"
    }
   ],
   "source": [
    "import random\n",
    "random_index = random.randint(0, 100)\n",
    "img = train_images[random_index]\n",
    "plt.imshow(train_images[random_index][:,:,0], cmap='gray')\n",
    "img = img.reshape(1, 1, 48, 48)\n",
    "print(img.shape)\n",
    "img = torch.from_numpy(img)\n",
    "print(img.shape)\n",
    "img = img.to(device)\n",
    "rez = model(img)\n",
    "y = torch.argmax(rez, axis=1)\n",
    "\n",
    "plt.title(f'Predicted: {emotions[y.item()]}. Correct: {emotions[np.argmax(train_labels[random_index])]}')\n",
    "plt.show()"
   ]
  },
  {
   "cell_type": "code",
   "execution_count": 59,
   "metadata": {},
   "outputs": [
    {
     "name": "stdout",
     "output_type": "stream",
     "text": [
      "(1, 1, 48, 48)\n",
      "torch.Size([1, 1, 48, 48])\n"
     ]
    },
    {
     "data": {
      "image/png": "[encoded data removed]",
      "text/plain": [
       "<Figure size 640x480 with 1 Axes>"
      ]
     },
     "metadata": {},
     "output_type": "display_data"
    }
   ],
   "source": [
    "import random\n",
    "random_index = random.randint(0, 100)\n",
    "img = train_images[random_index]\n",
    "plt.imshow(train_images[random_index][:,:,0], cmap='gray')\n",
    "img = img.reshape(1, 1, 48, 48)\n",
    "print(img.shape)\n",
    "img = torch.from_numpy(img)\n",
    "print(img.shape)\n",
    "img = img.to(device)\n",
    "rez = model(img)\n",
    "y = torch.argmax(rez, axis=1)\n",
    "\n",
    "plt.title(f'Predicted: {emotions[y.item()]}. Correct: {emotions[np.argmax(train_labels[random_index])]}')\n",
    "plt.show()"
   ]
  },
  {
   "cell_type": "markdown",
   "metadata": {},
   "source": [
    "Other tests:"
   ]
  },
  {
   "cell_type": "code",
   "execution_count": 60,
   "metadata": {},
   "outputs": [],
   "source": [
    "torch.save(model.state_dict(), 'model_batches.pth')"
   ]
  },
  {
   "cell_type": "code",
   "execution_count": 61,
   "metadata": {},
   "outputs": [
    {
     "name": "stdout",
     "output_type": "stream",
     "text": [
      "7.348231 M parameters\n"
     ]
    }
   ],
   "source": [
    "print(sum(p.numel() for p in model.parameters())/1e6, 'M parameters')"
   ]
  },
  {
   "cell_type": "code",
   "execution_count": 62,
   "metadata": {},
   "outputs": [
    {
     "data": {
      "text/plain": [
       "InceptionNetwork(\n",
       "  (conv1): ConvolutionBlock(\n",
       "    (conv2d): Conv2d(1, 64, kernel_size=(7, 7), stride=(2, 2), padding=(3, 3), bias=False)\n",
       "    (batchnorm2d): BatchNorm2d(64, eps=1e-05, momentum=0.1, affine=True, track_running_stats=True)\n",
       "    (activation): ReLU()\n",
       "  )\n",
       "  (maxpool1): MaxPool2d(kernel_size=3, stride=2, padding=1, dilation=1, ceil_mode=False)\n",
       "  (conv2): ConvolutionBlock(\n",
       "    (conv2d): Conv2d(64, 192, kernel_size=(3, 3), stride=(1, 1), padding=(1, 1), bias=False)\n",
       "    (batchnorm2d): BatchNorm2d(192, eps=1e-05, momentum=0.1, affine=True, track_running_stats=True)\n",
       "    (activation): ReLU()\n",
       "  )\n",
       "  (maxpool2): MaxPool2d(kernel_size=3, stride=2, padding=1, dilation=1, ceil_mode=False)\n",
       "  (inception3a): InceptionBlock(\n",
       "    (branch1): ConvolutionBlock(\n",
       "      (conv2d): Conv2d(192, 64, kernel_size=(1, 1), stride=(1, 1), bias=False)\n",
       "      (batchnorm2d): BatchNorm2d(64, eps=1e-05, momentum=0.1, affine=True, track_running_stats=True)\n",
       "      (activation): ReLU()\n",
       "    )\n",
       "    (branch2): Sequential(\n",
       "      (0): ConvolutionBlock(\n",
       "        (conv2d): Conv2d(192, 96, kernel_size=(1, 1), stride=(1, 1), bias=False)\n",
       "        (batchnorm2d): BatchNorm2d(96, eps=1e-05, momentum=0.1, affine=True, track_running_stats=True)\n",
       "        (activation): ReLU()\n",
       "      )\n",
       "      (1): ConvolutionBlock(\n",
       "        (conv2d): Conv2d(96, 128, kernel_size=(3, 3), stride=(1, 1), padding=(1, 1), bias=False)\n",
       "        (batchnorm2d): BatchNorm2d(128, eps=1e-05, momentum=0.1, affine=True, track_running_stats=True)\n",
       "        (activation): ReLU()\n",
       "      )\n",
       "    )\n",
       "    (branch3): Sequential(\n",
       "      (0): ConvolutionBlock(\n",
       "        (conv2d): Conv2d(192, 16, kernel_size=(1, 1), stride=(1, 1), bias=False)\n",
       "        (batchnorm2d): BatchNorm2d(16, eps=1e-05, momentum=0.1, affine=True, track_running_stats=True)\n",
       "        (activation): ReLU()\n",
       "      )\n",
       "      (1): ConvolutionBlock(\n",
       "        (conv2d): Conv2d(16, 32, kernel_size=(5, 5), stride=(1, 1), padding=(2, 2), bias=False)\n",
       "        (batchnorm2d): BatchNorm2d(32, eps=1e-05, momentum=0.1, affine=True, track_running_stats=True)\n",
       "        (activation): ReLU()\n",
       "      )\n",
       "    )\n",
       "    (branch4): Sequential(\n",
       "      (0): MaxPool2d(kernel_size=3, stride=1, padding=1, dilation=1, ceil_mode=False)\n",
       "      (1): ConvolutionBlock(\n",
       "        (conv2d): Conv2d(192, 32, kernel_size=(1, 1), stride=(1, 1), bias=False)\n",
       "        (batchnorm2d): BatchNorm2d(32, eps=1e-05, momentum=0.1, affine=True, track_running_stats=True)\n",
       "        (activation): ReLU()\n",
       "      )\n",
       "    )\n",
       "  )\n",
       "  (inception3b): InceptionBlock(\n",
       "    (branch1): ConvolutionBlock(\n",
       "      (conv2d): Conv2d(256, 128, kernel_size=(1, 1), stride=(1, 1), bias=False)\n",
       "      (batchnorm2d): BatchNorm2d(128, eps=1e-05, momentum=0.1, affine=True, track_running_stats=True)\n",
       "      (activation): ReLU()\n",
       "    )\n",
       "    (branch2): Sequential(\n",
       "      (0): ConvolutionBlock(\n",
       "        (conv2d): Conv2d(256, 128, kernel_size=(1, 1), stride=(1, 1), bias=False)\n",
       "        (batchnorm2d): BatchNorm2d(128, eps=1e-05, momentum=0.1, affine=True, track_running_stats=True)\n",
       "        (activation): ReLU()\n",
       "      )\n",
       "      (1): ConvolutionBlock(\n",
       "        (conv2d): Conv2d(128, 192, kernel_size=(3, 3), stride=(1, 1), padding=(1, 1), bias=False)\n",
       "        (batchnorm2d): BatchNorm2d(192, eps=1e-05, momentum=0.1, affine=True, track_running_stats=True)\n",
       "        (activation): ReLU()\n",
       "      )\n",
       "    )\n",
       "    (branch3): Sequential(\n",
       "      (0): ConvolutionBlock(\n",
       "        (conv2d): Conv2d(256, 32, kernel_size=(1, 1), stride=(1, 1), bias=False)\n",
       "        (batchnorm2d): BatchNorm2d(32, eps=1e-05, momentum=0.1, affine=True, track_running_stats=True)\n",
       "        (activation): ReLU()\n",
       "      )\n",
       "      (1): ConvolutionBlock(\n",
       "        (conv2d): Conv2d(32, 96, kernel_size=(5, 5), stride=(1, 1), padding=(2, 2), bias=False)\n",
       "        (batchnorm2d): BatchNorm2d(96, eps=1e-05, momentum=0.1, affine=True, track_running_stats=True)\n",
       "        (activation): ReLU()\n",
       "      )\n",
       "    )\n",
       "    (branch4): Sequential(\n",
       "      (0): MaxPool2d(kernel_size=3, stride=1, padding=1, dilation=1, ceil_mode=False)\n",
       "      (1): ConvolutionBlock(\n",
       "        (conv2d): Conv2d(256, 64, kernel_size=(1, 1), stride=(1, 1), bias=False)\n",
       "        (batchnorm2d): BatchNorm2d(64, eps=1e-05, momentum=0.1, affine=True, track_running_stats=True)\n",
       "        (activation): ReLU()\n",
       "      )\n",
       "    )\n",
       "  )\n",
       "  (maxpool3): MaxPool2d(kernel_size=3, stride=2, padding=1, dilation=1, ceil_mode=False)\n",
       "  (inception4a): InceptionBlock(\n",
       "    (branch1): ConvolutionBlock(\n",
       "      (conv2d): Conv2d(480, 192, kernel_size=(1, 1), stride=(1, 1), bias=False)\n",
       "      (batchnorm2d): BatchNorm2d(192, eps=1e-05, momentum=0.1, affine=True, track_running_stats=True)\n",
       "      (activation): ReLU()\n",
       "    )\n",
       "    (branch2): Sequential(\n",
       "      (0): ConvolutionBlock(\n",
       "        (conv2d): Conv2d(480, 96, kernel_size=(1, 1), stride=(1, 1), bias=False)\n",
       "        (batchnorm2d): BatchNorm2d(96, eps=1e-05, momentum=0.1, affine=True, track_running_stats=True)\n",
       "        (activation): ReLU()\n",
       "      )\n",
       "      (1): ConvolutionBlock(\n",
       "        (conv2d): Conv2d(96, 208, kernel_size=(3, 3), stride=(1, 1), padding=(1, 1), bias=False)\n",
       "        (batchnorm2d): BatchNorm2d(208, eps=1e-05, momentum=0.1, affine=True, track_running_stats=True)\n",
       "        (activation): ReLU()\n",
       "      )\n",
       "    )\n",
       "    (branch3): Sequential(\n",
       "      (0): ConvolutionBlock(\n",
       "        (conv2d): Conv2d(480, 16, kernel_size=(1, 1), stride=(1, 1), bias=False)\n",
       "        (batchnorm2d): BatchNorm2d(16, eps=1e-05, momentum=0.1, affine=True, track_running_stats=True)\n",
       "        (activation): ReLU()\n",
       "      )\n",
       "      (1): ConvolutionBlock(\n",
       "        (conv2d): Conv2d(16, 48, kernel_size=(5, 5), stride=(1, 1), padding=(2, 2), bias=False)\n",
       "        (batchnorm2d): BatchNorm2d(48, eps=1e-05, momentum=0.1, affine=True, track_running_stats=True)\n",
       "        (activation): ReLU()\n",
       "      )\n",
       "    )\n",
       "    (branch4): Sequential(\n",
       "      (0): MaxPool2d(kernel_size=3, stride=1, padding=1, dilation=1, ceil_mode=False)\n",
       "      (1): ConvolutionBlock(\n",
       "        (conv2d): Conv2d(480, 64, kernel_size=(1, 1), stride=(1, 1), bias=False)\n",
       "        (batchnorm2d): BatchNorm2d(64, eps=1e-05, momentum=0.1, affine=True, track_running_stats=True)\n",
       "        (activation): ReLU()\n",
       "      )\n",
       "    )\n",
       "  )\n",
       "  (avgPool): AvgPool2d(kernel_size=3, stride=1, padding=0)\n",
       "  (fc1): Linear(in_features=512, out_features=4096, bias=True)\n",
       "  (fc2): Linear(in_features=4096, out_features=1024, bias=True)\n",
       "  (fc3): Linear(in_features=1024, out_features=7, bias=True)\n",
       ")"
      ]
     },
     "execution_count": 62,
     "metadata": {},
     "output_type": "execute_result"
    }
   ],
   "source": [
    "# from inception_network import InceptionNetwork\n",
    "\n",
    "model = InceptionNetwork()\n",
    "\n",
    "model.load_state_dict(torch.load('model_batches.pth'))\n",
    "model = model.to(device)\n",
    "model.eval()"
   ]
  },
  {
   "cell_type": "code",
   "execution_count": 63,
   "metadata": {},
   "outputs": [
    {
     "name": "stdout",
     "output_type": "stream",
     "text": [
      "  >>> Test Loss: 1.766 | Test Acc: 59.794% (2143/3584)\n"
     ]
    },
    {
     "data": {
      "text/plain": [
       "(1.7657028154322976, 59.793526785714285)"
      ]
     },
     "execution_count": 63,
     "metadata": {},
     "output_type": "execute_result"
    }
   ],
   "source": [
    "test_model()"
   ]
  },
  {
   "cell_type": "code",
   "execution_count": null,
   "metadata": {},
   "outputs": [],
   "source": []
  },
  {
   "cell_type": "code",
   "execution_count": 89,
   "metadata": {},
   "outputs": [
    {
     "name": "stdout",
     "output_type": "stream",
     "text": [
      "(1, 1, 48, 48)\n",
      "torch.Size([1, 1, 48, 48])\n"
     ]
    },
    {
     "data": {
      "image/png": "[encoded data removed]",
      "text/plain": [
       "<Figure size 640x480 with 1 Axes>"
      ]
     },
     "metadata": {},
     "output_type": "display_data"
    }
   ],
   "source": [
    "import random\n",
    "random_index = random.randint(0, 100)\n",
    "img = test_images[random_index]\n",
    "plt.imshow(test_images[random_index][:,:,0], cmap='gray')\n",
    "img = img.reshape(1, 1, 48, 48)\n",
    "print(img.shape)\n",
    "img = torch.from_numpy(img)\n",
    "print(img.shape)\n",
    "img = img.to(device)\n",
    "rez = model(img)\n",
    "y = torch.argmax(rez, axis=1)\n",
    "true_y = np.argmax(test_labels[random_index])\n",
    "plt.title(f'Predicted: {emotions[y.item()]}. Correct: {emotions[true_y]}')\n",
    "plt.show()"
   ]
  },
  {
   "cell_type": "code",
   "execution_count": 83,
   "metadata": {},
   "outputs": [
    {
     "name": "stdout",
     "output_type": "stream",
     "text": [
      "(1, 1, 48, 48)\n",
      "torch.Size([1, 1, 48, 48])\n"
     ]
    },
    {
     "data": {
      "image/png": "[encoded data removed]",
      "text/plain": [
       "<Figure size 640x480 with 1 Axes>"
      ]
     },
     "metadata": {},
     "output_type": "display_data"
    }
   ],
   "source": [
    "import random\n",
    "random_index = random.randint(0, 100)\n",
    "img = test_images[random_index]\n",
    "plt.imshow(test_images[random_index][:,:,0], cmap='gray')\n",
    "img = img.reshape(1, 1, 48, 48)\n",
    "print(img.shape)\n",
    "img = torch.from_numpy(img)\n",
    "print(img.shape)\n",
    "img = img.to(device)\n",
    "rez = model(img)\n",
    "y = torch.argmax(rez, axis=1)\n",
    "\n",
    "plt.title(f'Predicted: {emotions[y.item()]}. Correct: {emotions[np.argmax(test_labels[random_index])]}')\n",
    "plt.show()"
   ]
  },
  {
   "cell_type": "code",
   "execution_count": null,
   "metadata": {},
   "outputs": [],
   "source": []
  }
 ],
 "metadata": {
  "kernelspec": {
   "display_name": "Python 3",
   "language": "python",
   "name": "python3"
  },
  "language_info": {
   "codemirror_mode": {
    "name": "ipython",
    "version": 3
   },
   "file_extension": ".py",
   "mimetype": "text/x-python",
   "name": "python",
   "nbconvert_exporter": "python",
   "pygments_lexer": "ipython3",
   "version": "3.11.5"
  }
 },
 "nbformat": 4,
 "nbformat_minor": 2
}
